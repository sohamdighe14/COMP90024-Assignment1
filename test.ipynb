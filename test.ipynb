{
 "cells": [
  {
   "cell_type": "code",
   "execution_count": 1,
   "metadata": {},
   "outputs": [
    {
     "data": {
      "image/png": "[encoded data removed]",
      "text/plain": [
       "<Figure size 432x288 with 1 Axes>"
      ]
     },
     "metadata": {
      "needs_background": "light"
     },
     "output_type": "display_data"
    }
   ],
   "source": [
    "results = [277.502371,37.546311, 37.092691]\n",
    "labels = [\"N1C1\", \"N1C8\", \"N2C8\"]\n",
    "\n",
    "import matplotlib.pyplot as plt\n",
    "fig = plt.figure()\n",
    "ax = fig.add_axes([0,0,1,1])\n",
    "ax.bar(labels,results)\n",
    "ax.set_title('Execution time for the different slurm scripts')\n",
    "ax.set_ylabel('Execution time in seconds')\n",
    "ax.set_xlabel('Slurm scripts')\n",
    "plt.show()"
   ]
  },
  {
   "cell_type": "code",
   "execution_count": 31,
   "metadata": {},
   "outputs": [
    {
     "name": "stdout",
     "output_type": "stream",
     "text": [
      "[-33.86, 151.211]\n",
      "C3\n",
      "[-33.86751, 151.20797]\n",
      "C3\n",
      "[-33.9005, 151.27053]\n",
      "C3\n",
      "[-33.93467816, 151.17834389]\n",
      "C3\n",
      "[-33.8473998, 151.072247]\n",
      "C3\n",
      "[-33.86751, 151.20797]\n",
      "C3\n",
      "[-33.81967, 151.0655]\n",
      "C3\n",
      "[-33.85999135, 151.2102003]\n",
      "C3\n",
      "[-33.86751, 151.20797]\n",
      "C3\n",
      "[-33.86751, 151.20797]\n",
      "C3\n",
      "[-33.8392224, 151.0355168]\n",
      "C3\n",
      "[-33.86751, 151.20797]\n",
      "C3\n",
      "[-33.86751, 151.20797]\n",
      "C3\n",
      "[-33.84371259, 151.2083274]\n",
      "C3\n",
      "[-33.8705799, 151.20747]\n",
      "C3\n",
      "15\n",
      "{'id': 1, 'cell': 'A1', 'xmin': 149.79255080532937, 'ymin': -33.31644989181766, 'xmax': 150.34255080532938, 'ymax': -32.81644989181766}\n",
      "{'id': 2, 'cell': 'B1', 'xmin': 149.79255080532937, 'ymin': -33.81644989181766, 'xmax': 150.34255080532938, 'ymax': -33.31644989181766}\n",
      "{'id': 3, 'cell': 'C1', 'xmin': 149.79255080532937, 'ymin': -34.31644989181766, 'xmax': 150.34255080532938, 'ymax': -33.81644989181766}\n",
      "{'id': 4, 'cell': 'D1', 'xmin': 149.79255080532937, 'ymin': -34.81644989181766, 'xmax': 150.34255080532938, 'ymax': -34.31644989181766}\n",
      "{'id': 5, 'cell': 'A2', 'xmin': 150.34255080532938, 'ymin': -33.31644989181766, 'xmax': 150.8925508053294, 'ymax': -32.81644989181766}\n",
      "{'id': 6, 'cell': 'B2', 'xmin': 150.34255080532938, 'ymin': -33.81644989181766, 'xmax': 150.8925508053294, 'ymax': -33.31644989181766}\n",
      "{'id': 7, 'cell': 'C2', 'xmin': 150.34255080532938, 'ymin': -34.31644989181766, 'xmax': 150.8925508053294, 'ymax': -33.81644989181766}\n",
      "{'id': 8, 'cell': 'D2', 'xmin': 150.34255080532938, 'ymin': -34.81644989181766, 'xmax': 150.8925508053294, 'ymax': -34.31644989181766}\n",
      "{'id': 9, 'cell': 'A3', 'xmin': 150.89255080532936, 'ymin': -33.31644989181766, 'xmax': 151.44255080532938, 'ymax': -32.81644989181766}\n",
      "{'id': 10, 'cell': 'B3', 'xmin': 150.89255080532936, 'ymin': -33.81644989181766, 'xmax': 151.44255080532938, 'ymax': -33.31644989181766}\n",
      "{'id': 11, 'cell': 'C3', 'xmin': 150.89255080532936, 'ymin': -34.31644989181766, 'xmax': 151.44255080532938, 'ymax': -33.81644989181766}\n",
      "{'id': 12, 'cell': 'D3', 'xmin': 150.89255080532936, 'ymin': -34.81644989181766, 'xmax': 151.44255080532938, 'ymax': -34.31644989181766}\n",
      "{'id': 13, 'cell': 'A4', 'xmin': 151.44255080532938, 'ymin': -33.31644989181766, 'xmax': 151.9925508053294, 'ymax': -32.81644989181766}\n",
      "{'id': 14, 'cell': 'B4', 'xmin': 151.44255080532938, 'ymin': -33.81644989181766, 'xmax': 151.9925508053294, 'ymax': -33.31644989181766}\n",
      "{'id': 15, 'cell': 'C4', 'xmin': 151.44255080532938, 'ymin': -34.31644989181766, 'xmax': 151.9925508053294, 'ymax': -33.81644989181766}\n",
      "{'id': 16, 'cell': 'D4', 'xmin': 151.44255080532938, 'ymin': -34.81644989181766, 'xmax': 151.9925508053294, 'ymax': -34.31644989181766}\n"
     ]
    }
   ],
   "source": [
    "import json\n",
    "def SydGrid(file_name):\n",
    "    '''\n",
    "    \"geo\":{\"type\":\"Point\",\"coordinates\":[-33.86751,151.20797]}\n",
    "    all 8 acesss and read same time\n",
    "    datastructures to optimize performance\n",
    "    showq -q snowy| less\n",
    "    master has rank 0 always\n",
    "    sbatch <script_name> \n",
    "    squeue -u <username>\n",
    "    module avail mpip4py//list all libs\n",
    "    tell module load <lib> in slurm script\n",
    "    scancel <job_id>\n",
    "    '''\n",
    "    syd_grid = []\n",
    "    with open(file_name) as f:\n",
    "        data = json.load(f)\n",
    "        for val in data['features']:\n",
    "            grid_data = {}\n",
    "            properties = val['properties']\n",
    "            grid_data['id'] = properties['id']\n",
    "            num = int((grid_data['id'])%4)\n",
    "            if num == 0:\n",
    "                num=4\n",
    "            grid_data['cell'] = chr(int(num+64))+str(int((grid_data['id']-1)/4)+1)\n",
    "            geometry = val['geometry'] \n",
    "            grid_data['xmin'] = geometry['coordinates'][0][0][0]\n",
    "            grid_data['ymin'] = geometry['coordinates'][0][2][1]\n",
    "            grid_data['xmax'] = geometry['coordinates'][0][1][0]\n",
    "            grid_data['ymax'] = geometry['coordinates'][0][0][1]\n",
    "            syd_grid.append(grid_data)\n",
    "    return syd_grid\n",
    "\n",
    "def GetGridCell(x,y):\n",
    "    grid = SydGrid('./sydGrid.json')\n",
    "    for item in grid:\n",
    "        if item['xmin']<x<=item['xmax'] and item['ymin']<y<=item['ymax']:\n",
    "            print(item['cell'])\n",
    "            return\n",
    "    print(\"None\")\n",
    "    \n",
    "with open(\"./smallTwitter.json\", encoding = \"utf-8\") as f:\n",
    "    data = json.load(f)\n",
    "\n",
    "counter = 0\n",
    "for item in data['rows']:\n",
    "    if item['doc']['geo'] is not None:\n",
    "        counter +=1\n",
    "        print(item['doc']['geo']['coordinates'])\n",
    "        GetGridCell(item['doc']['geo']['coordinates'][1], item['doc']['geo']['coordinates'][0])\n",
    "print(counter)\n",
    "grid = SydGrid('./sydGrid.json')\n",
    "for item in grid:\n",
    "    print(item)"
   ]
  },
  {
   "cell_type": "code",
   "execution_count": null,
   "metadata": {},
   "outputs": [],
   "source": []
  }
 ],
 "metadata": {
  "interpreter": {
   "hash": "0f30f52230e98a66701697f317046da00ce2cde01feb9a5533ae28cf5631ecd9"
  },
  "kernelspec": {
   "display_name": "Python 3 (ipykernel)",
   "language": "python",
   "name": "python3"
  },
  "language_info": {
   "codemirror_mode": {
    "name": "ipython",
    "version": 3
   },
   "file_extension": ".py",
   "mimetype": "text/x-python",
   "name": "python",
   "nbconvert_exporter": "python",
   "pygments_lexer": "ipython3",
   "version": "3.9.7"
  }
 },
 "nbformat": 4,
 "nbformat_minor": 2
}
